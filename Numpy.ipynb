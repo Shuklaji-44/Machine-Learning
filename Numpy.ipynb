{
 "cells": [
  {
   "cell_type": "code",
   "execution_count": 1,
   "id": "327f8520-2bf5-4dff-8bd6-222611adeabf",
   "metadata": {},
   "outputs": [
    {
     "name": "stdout",
     "output_type": "stream",
     "text": [
      "Array A: [1 2 3 4]\n",
      "Array B: [5 6 7 8]\n",
      "Sum of A and B: [ 6  8 10 12]\n",
      "Product of A and B: [ 5 12 21 32]\n",
      "Mean of A: 2.5\n",
      "Standard Deviation of A: 1.118033988749895\n"
     ]
    }
   ],
   "source": [
    "import numpy as np\n",
    "\n",
    "# Create two arrays\n",
    "a = np.array([1, 2, 3, 4])\n",
    "b = np.array([5, 6, 7, 8])\n",
    "\n",
    "# Element-wise addition\n",
    "sum_ab = a + b\n",
    "\n",
    "# Element-wise multiplication\n",
    "product_ab = a * b\n",
    "\n",
    "# Mean and standard deviation\n",
    "mean_a = np.mean(a)\n",
    "std_a = np.std(a)\n",
    "\n",
    "# Display results\n",
    "print(\"Array A:\", a)\n",
    "print(\"Array B:\", b)\n",
    "print(\"Sum of A and B:\", sum_ab)\n",
    "print(\"Product of A and B:\", product_ab)\n",
    "print(\"Mean of A:\", mean_a)\n",
    "print(\"Standard Deviation of A:\", std_a)\n"
   ]
  },
  {
   "cell_type": "code",
   "execution_count": 2,
   "id": "7572734c-a658-4442-9fef-cbae3e2f174f",
   "metadata": {},
   "outputs": [
    {
     "data": {
      "text/plain": [
       "array([[ 1.57708874, -0.35976811],\n",
       "       [ 0.77475142, -0.61801454]])"
      ]
     },
     "execution_count": 2,
     "metadata": {},
     "output_type": "execute_result"
    }
   ],
   "source": [
    "np.array([1, 2, 3])           # Create from list\n",
    "np.zeros((2, 3))              # Array of zeros\n",
    "np.ones((2, 3))               # Array of ones\n",
    "np.full((2, 3), 7)            # Filled with a specific value\n",
    "np.eye(3)                     # Identity matrix\n",
    "np.arange(0, 10, 2)           # Range with step\n",
    "np.linspace(0, 1, 5)          # Evenly spaced numbers\n",
    "np.random.rand(2, 2)          # Random values (uniform)\n",
    "np.random.randn(2, 2)         # Random values (normal)\n"
   ]
  },
  {
   "cell_type": "code",
   "execution_count": 3,
   "id": "44c305d5-1c49-426f-933d-35ddb262ff5c",
   "metadata": {},
   "outputs": [
    {
     "name": "stdout",
     "output_type": "stream",
     "text": [
      "Student Scores (Math, Science, English):\n",
      " [[88 78 64]\n",
      " [92 57 70]\n",
      " [88 68 72]\n",
      " [60 60 73]\n",
      " [85 89 73]]\n",
      "\n",
      "Average Score Per Student: [76.66666667 73.         76.         64.33333333 82.33333333]\n",
      "Average Score Per Subject (Math, Science, English): [82.6 70.4 70.4]\n",
      "Top Performer: Student 5\n",
      "Number of students with 90+ in any subject: 1\n"
     ]
    }
   ],
   "source": [
    "import numpy as np\n",
    "\n",
    "# Step 1: Generate random scores for 5 students in 3 subjects (Math, Science, English)\n",
    "np.random.seed(42)  # For reproducibility\n",
    "scores = np.random.randint(50, 100, size=(5, 3))\n",
    "\n",
    "# Step 2: Display scores\n",
    "print(\"Student Scores (Math, Science, English):\\n\", scores)\n",
    "\n",
    "# Step 3: Calculate average score per student\n",
    "average_per_student = np.mean(scores, axis=1)\n",
    "print(\"\\nAverage Score Per Student:\", average_per_student)\n",
    "\n",
    "# Step 4: Calculate average score per subject\n",
    "average_per_subject = np.mean(scores, axis=0)\n",
    "print(\"Average Score Per Subject (Math, Science, English):\", average_per_subject)\n",
    "\n",
    "# Step 5: Find the top performer (student with highest average)\n",
    "top_student_index = np.argmax(average_per_student)\n",
    "print(\"Top Performer: Student\", top_student_index + 1)\n",
    "\n",
    "# Step 6: Find how many students scored above 90 in any subject\n",
    "high_scores = scores > 90\n",
    "students_with_90_plus = np.any(high_scores, axis=1)\n",
    "count_90_plus = np.sum(students_with_90_plus)\n",
    "print(\"Number of students with 90+ in any subject:\", count_90_plus)\n"
   ]
  },
  {
   "cell_type": "code",
   "execution_count": null,
   "id": "bf424953-7eb4-4a5a-adc9-683f8be1225c",
   "metadata": {},
   "outputs": [],
   "source": []
  }
 ],
 "metadata": {
  "kernelspec": {
   "display_name": "Python 3 (ipykernel)",
   "language": "python",
   "name": "python3"
  },
  "language_info": {
   "codemirror_mode": {
    "name": "ipython",
    "version": 3
   },
   "file_extension": ".py",
   "mimetype": "text/x-python",
   "name": "python",
   "nbconvert_exporter": "python",
   "pygments_lexer": "ipython3",
   "version": "3.13.1"
  }
 },
 "nbformat": 4,
 "nbformat_minor": 5
}
