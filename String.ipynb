{
 "cells": [
  {
   "cell_type": "code",
   "execution_count": 4,
   "id": "fdc561ce-f180-4d48-84ed-5c49b5d3f592",
   "metadata": {},
   "outputs": [
    {
     "name": "stdout",
     "output_type": "stream",
     "text": [
      "d_Ins\n",
      "United_Insti\n",
      "nstitute_of_Managment\n",
      "United_Institute_of_Managment\n",
      "\n",
      "d_Institute_of_Mana\n",
      "dem\n",
      "tnemganaM_fo_etutitsnI_detinU\n",
      "United_Institute_of_Managment\n"
     ]
    }
   ],
   "source": [
    "string1=\"United_Institute_of_Managment\"\n",
    "substr1=string1[5:10]\n",
    "print(substr1)\n",
    "substr1=string1[:12]\n",
    "print(substr1)\n",
    "substr1=string1[8:]\n",
    "print(substr1)\n",
    "substr1=string1[:]\n",
    "print(substr1)\n",
    "substr1=string1[-5:-15]\n",
    "print(substr1)\n",
    "substr1=string1[5:-5]\n",
    "print(substr1)\n",
    "substr1=string1[5::10]\n",
    "print(substr1)\n",
    "substr1=string1[::-1]\n",
    "print(substr1)\n",
    "substr1=string1[0::]\n",
    "print(substr1)\n"
   ]
  },
  {
   "cell_type": "code",
   "execution_count": null,
   "id": "2886d8c7-6f8d-4d4e-b605-f9830d5999f0",
   "metadata": {},
   "outputs": [],
   "source": [
    "\n",
    "\n"
   ]
  }
 ],
 "metadata": {
  "kernelspec": {
   "display_name": "Python 3 (ipykernel)",
   "language": "python",
   "name": "python3"
  },
  "language_info": {
   "codemirror_mode": {
    "name": "ipython",
    "version": 3
   },
   "file_extension": ".py",
   "mimetype": "text/x-python",
   "name": "python",
   "nbconvert_exporter": "python",
   "pygments_lexer": "ipython3",
   "version": "3.13.1"
  }
 },
 "nbformat": 4,
 "nbformat_minor": 5
}
